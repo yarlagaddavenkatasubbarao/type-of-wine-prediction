{
 "cells": [
  {
   "cell_type": "code",
   "execution_count": 4,
   "metadata": {},
   "outputs": [],
   "source": [
    "import pandas as pd"
   ]
  },
  {
   "cell_type": "code",
   "execution_count": 5,
   "metadata": {},
   "outputs": [],
   "source": [
    "data =pd.read_csv(\"wine.data\")"
   ]
  },
  {
   "cell_type": "code",
   "execution_count": 7,
   "metadata": {},
   "outputs": [
    {
     "data": {
      "text/html": [
       "<div>\n",
       "<style scoped>\n",
       "    .dataframe tbody tr th:only-of-type {\n",
       "        vertical-align: middle;\n",
       "    }\n",
       "\n",
       "    .dataframe tbody tr th {\n",
       "        vertical-align: top;\n",
       "    }\n",
       "\n",
       "    .dataframe thead th {\n",
       "        text-align: right;\n",
       "    }\n",
       "</style>\n",
       "<table border=\"1\" class=\"dataframe\">\n",
       "  <thead>\n",
       "    <tr style=\"text-align: right;\">\n",
       "      <th></th>\n",
       "      <th>Output</th>\n",
       "      <th>Alcohol</th>\n",
       "      <th>Malic acid</th>\n",
       "      <th>Ash</th>\n",
       "      <th>Alcalinity of ash</th>\n",
       "      <th>Magnesium</th>\n",
       "      <th>Total phenols</th>\n",
       "      <th>Flavanoids</th>\n",
       "      <th>Nonflavanoid phenols</th>\n",
       "      <th>Proanthocyanins</th>\n",
       "      <th>Color intensity</th>\n",
       "      <th>Hue</th>\n",
       "      <th>OD280/OD315 of diluted wine</th>\n",
       "      <th>Proline</th>\n",
       "    </tr>\n",
       "  </thead>\n",
       "  <tbody>\n",
       "    <tr>\n",
       "      <th>0</th>\n",
       "      <td>1</td>\n",
       "      <td>14.23</td>\n",
       "      <td>1.71</td>\n",
       "      <td>2.43</td>\n",
       "      <td>15.6</td>\n",
       "      <td>127</td>\n",
       "      <td>2.80</td>\n",
       "      <td>3.06</td>\n",
       "      <td>0.28</td>\n",
       "      <td>2.29</td>\n",
       "      <td>5.64</td>\n",
       "      <td>1.04</td>\n",
       "      <td>3.92</td>\n",
       "      <td>1065</td>\n",
       "    </tr>\n",
       "    <tr>\n",
       "      <th>1</th>\n",
       "      <td>1</td>\n",
       "      <td>13.20</td>\n",
       "      <td>1.78</td>\n",
       "      <td>2.14</td>\n",
       "      <td>11.2</td>\n",
       "      <td>100</td>\n",
       "      <td>2.65</td>\n",
       "      <td>2.76</td>\n",
       "      <td>0.26</td>\n",
       "      <td>1.28</td>\n",
       "      <td>4.38</td>\n",
       "      <td>1.05</td>\n",
       "      <td>3.40</td>\n",
       "      <td>1050</td>\n",
       "    </tr>\n",
       "    <tr>\n",
       "      <th>2</th>\n",
       "      <td>1</td>\n",
       "      <td>13.16</td>\n",
       "      <td>2.36</td>\n",
       "      <td>2.67</td>\n",
       "      <td>18.6</td>\n",
       "      <td>101</td>\n",
       "      <td>2.80</td>\n",
       "      <td>3.24</td>\n",
       "      <td>0.30</td>\n",
       "      <td>2.81</td>\n",
       "      <td>5.68</td>\n",
       "      <td>1.03</td>\n",
       "      <td>3.17</td>\n",
       "      <td>1185</td>\n",
       "    </tr>\n",
       "    <tr>\n",
       "      <th>3</th>\n",
       "      <td>1</td>\n",
       "      <td>14.37</td>\n",
       "      <td>1.95</td>\n",
       "      <td>2.50</td>\n",
       "      <td>16.8</td>\n",
       "      <td>113</td>\n",
       "      <td>3.85</td>\n",
       "      <td>3.49</td>\n",
       "      <td>0.24</td>\n",
       "      <td>2.18</td>\n",
       "      <td>7.80</td>\n",
       "      <td>0.86</td>\n",
       "      <td>3.45</td>\n",
       "      <td>1480</td>\n",
       "    </tr>\n",
       "    <tr>\n",
       "      <th>4</th>\n",
       "      <td>1</td>\n",
       "      <td>13.24</td>\n",
       "      <td>2.59</td>\n",
       "      <td>2.87</td>\n",
       "      <td>21.0</td>\n",
       "      <td>118</td>\n",
       "      <td>2.80</td>\n",
       "      <td>2.69</td>\n",
       "      <td>0.39</td>\n",
       "      <td>1.82</td>\n",
       "      <td>4.32</td>\n",
       "      <td>1.04</td>\n",
       "      <td>2.93</td>\n",
       "      <td>735</td>\n",
       "    </tr>\n",
       "  </tbody>\n",
       "</table>\n",
       "</div>"
      ],
      "text/plain": [
       "   Output  Alcohol  Malic acid   Ash  Alcalinity of ash  Magnesium  \\\n",
       "0       1    14.23        1.71  2.43               15.6        127   \n",
       "1       1    13.20        1.78  2.14               11.2        100   \n",
       "2       1    13.16        2.36  2.67               18.6        101   \n",
       "3       1    14.37        1.95  2.50               16.8        113   \n",
       "4       1    13.24        2.59  2.87               21.0        118   \n",
       "\n",
       "   Total phenols  Flavanoids  Nonflavanoid phenols  Proanthocyanins  \\\n",
       "0           2.80        3.06                  0.28             2.29   \n",
       "1           2.65        2.76                  0.26             1.28   \n",
       "2           2.80        3.24                  0.30             2.81   \n",
       "3           3.85        3.49                  0.24             2.18   \n",
       "4           2.80        2.69                  0.39             1.82   \n",
       "\n",
       "   Color intensity   Hue  OD280/OD315 of diluted wine  Proline  \n",
       "0             5.64  1.04                         3.92     1065  \n",
       "1             4.38  1.05                         3.40     1050  \n",
       "2             5.68  1.03                         3.17     1185  \n",
       "3             7.80  0.86                         3.45     1480  \n",
       "4             4.32  1.04                         2.93      735  "
      ]
     },
     "execution_count": 7,
     "metadata": {},
     "output_type": "execute_result"
    }
   ],
   "source": [
    "data.head()"
   ]
  },
  {
   "cell_type": "code",
   "execution_count": 15,
   "metadata": {},
   "outputs": [],
   "source": [
    "X = data.iloc[:,1:14].values\n",
    "Y = data.iloc[:,0].values"
   ]
  },
  {
   "cell_type": "code",
   "execution_count": 16,
   "metadata": {},
   "outputs": [
    {
     "data": {
      "text/plain": [
       "array([[1.423e+01, 1.710e+00, 2.430e+00, ..., 1.040e+00, 3.920e+00,\n",
       "        1.065e+03],\n",
       "       [1.320e+01, 1.780e+00, 2.140e+00, ..., 1.050e+00, 3.400e+00,\n",
       "        1.050e+03],\n",
       "       [1.316e+01, 2.360e+00, 2.670e+00, ..., 1.030e+00, 3.170e+00,\n",
       "        1.185e+03],\n",
       "       ...,\n",
       "       [1.327e+01, 4.280e+00, 2.260e+00, ..., 5.900e-01, 1.560e+00,\n",
       "        8.350e+02],\n",
       "       [1.317e+01, 2.590e+00, 2.370e+00, ..., 6.000e-01, 1.620e+00,\n",
       "        8.400e+02],\n",
       "       [1.413e+01, 4.100e+00, 2.740e+00, ..., 6.100e-01, 1.600e+00,\n",
       "        5.600e+02]])"
      ]
     },
     "execution_count": 16,
     "metadata": {},
     "output_type": "execute_result"
    }
   ],
   "source": [
    "X"
   ]
  },
  {
   "cell_type": "code",
   "execution_count": 17,
   "metadata": {},
   "outputs": [
    {
     "data": {
      "text/plain": [
       "array([1, 1, 1, 1, 1, 1, 1, 1, 1, 1, 1, 1, 1, 1, 1, 1, 1, 1, 1, 1, 1, 1,\n",
       "       1, 1, 1, 1, 1, 1, 1, 1, 1, 1, 1, 1, 1, 1, 1, 1, 1, 1, 1, 1, 1, 1,\n",
       "       1, 1, 1, 1, 1, 1, 1, 1, 1, 1, 1, 1, 1, 1, 1, 2, 2, 2, 2, 2, 2, 2,\n",
       "       2, 2, 2, 2, 2, 2, 2, 2, 2, 2, 2, 2, 2, 2, 2, 2, 2, 2, 2, 2, 2, 2,\n",
       "       2, 2, 2, 2, 2, 2, 2, 2, 2, 2, 2, 2, 2, 2, 2, 2, 2, 2, 2, 2, 2, 2,\n",
       "       2, 2, 2, 2, 2, 2, 2, 2, 2, 2, 2, 2, 2, 2, 2, 2, 2, 2, 2, 2, 3, 3,\n",
       "       3, 3, 3, 3, 3, 3, 3, 3, 3, 3, 3, 3, 3, 3, 3, 3, 3, 3, 3, 3, 3, 3,\n",
       "       3, 3, 3, 3, 3, 3, 3, 3, 3, 3, 3, 3, 3, 3, 3, 3, 3, 3, 3, 3, 3, 3,\n",
       "       3, 3], dtype=int64)"
      ]
     },
     "execution_count": 17,
     "metadata": {},
     "output_type": "execute_result"
    }
   ],
   "source": [
    "Y"
   ]
  },
  {
   "cell_type": "code",
   "execution_count": 27,
   "metadata": {},
   "outputs": [],
   "source": [
    "from sklearn.model_selection import train_test_split\n",
    "X_train, X_test, Y_train, Y_test = train_test_split(X,Y,test_size = 0.2, random_state = 0)"
   ]
  },
  {
   "cell_type": "code",
   "execution_count": 32,
   "metadata": {},
   "outputs": [],
   "source": [
    "from sklearn.preprocessing import StandardScaler\n",
    "sc = StandardScaler()\n",
    "X_train = sc.fit_transform(X_train)\n",
    "X_test = sc.transform(X_test)"
   ]
  },
  {
   "cell_type": "code",
   "execution_count": 33,
   "metadata": {},
   "outputs": [
    {
     "name": "stderr",
     "output_type": "stream",
     "text": [
      "Using TensorFlow backend.\n"
     ]
    }
   ],
   "source": [
    "import keras\n",
    "from  keras.models import Sequential\n",
    "from keras.layers import Dense"
   ]
  },
  {
   "cell_type": "code",
   "execution_count": 34,
   "metadata": {},
   "outputs": [],
   "source": [
    "classifier = Sequential()"
   ]
  },
  {
   "cell_type": "code",
   "execution_count": 35,
   "metadata": {},
   "outputs": [
    {
     "name": "stderr",
     "output_type": "stream",
     "text": [
      "C:\\Users\\TEMP\\AppData\\Local\\conda\\conda\\envs\\tensor flow sessions\\lib\\site-packages\\ipykernel_launcher.py:1: UserWarning: Update your `Dense` call to the Keras 2 API: `Dense(activation=\"relu\", input_dim=13, units=7, kernel_initializer=\"uniform\")`\n",
      "  \"\"\"Entry point for launching an IPython kernel.\n"
     ]
    }
   ],
   "source": [
    "classifier.add(Dense(output_dim = 7, init = 'uniform', activation = 'relu', input_dim = 13))"
   ]
  },
  {
   "cell_type": "code",
   "execution_count": 36,
   "metadata": {},
   "outputs": [
    {
     "name": "stderr",
     "output_type": "stream",
     "text": [
      "C:\\Users\\TEMP\\AppData\\Local\\conda\\conda\\envs\\tensor flow sessions\\lib\\site-packages\\ipykernel_launcher.py:1: UserWarning: Update your `Dense` call to the Keras 2 API: `Dense(activation=\"relu\", units=7, kernel_initializer=\"uniform\")`\n",
      "  \"\"\"Entry point for launching an IPython kernel.\n"
     ]
    }
   ],
   "source": [
    "classifier.add(Dense(output_dim = 7, init = 'uniform', activation = 'relu'))"
   ]
  },
  {
   "cell_type": "code",
   "execution_count": 37,
   "metadata": {},
   "outputs": [
    {
     "name": "stderr",
     "output_type": "stream",
     "text": [
      "C:\\Users\\TEMP\\AppData\\Local\\conda\\conda\\envs\\tensor flow sessions\\lib\\site-packages\\ipykernel_launcher.py:1: UserWarning: Update your `Dense` call to the Keras 2 API: `Dense(activation=\"sigmoid\", units=1, kernel_initializer=\"uniform\")`\n",
      "  \"\"\"Entry point for launching an IPython kernel.\n"
     ]
    }
   ],
   "source": [
    "classifier.add(Dense(output_dim = 1, init = 'uniform', activation = 'sigmoid'))"
   ]
  },
  {
   "cell_type": "code",
   "execution_count": 39,
   "metadata": {},
   "outputs": [],
   "source": [
    "classifier.compile(optimizer = 'adam',loss = 'binary_crossentropy', metrics =['accuracy'])"
   ]
  },
  {
   "cell_type": "code",
   "execution_count": 40,
   "metadata": {},
   "outputs": [
    {
     "name": "stderr",
     "output_type": "stream",
     "text": [
      "C:\\Users\\TEMP\\AppData\\Local\\conda\\conda\\envs\\tensor flow sessions\\lib\\site-packages\\ipykernel_launcher.py:1: UserWarning: The `nb_epoch` argument in `fit` has been renamed `epochs`.\n",
      "  \"\"\"Entry point for launching an IPython kernel.\n"
     ]
    },
    {
     "name": "stdout",
     "output_type": "stream",
     "text": [
      "Epoch 1/100\n",
      "142/142 [==============================] - 2s 18ms/step - loss: 0.6814 - acc: 0.3169\n",
      "Epoch 2/100\n",
      "142/142 [==============================] - 0s 119us/step - loss: 0.6484 - acc: 0.3169\n",
      "Epoch 3/100\n",
      "142/142 [==============================] - 0s 140us/step - loss: 0.5994 - acc: 0.3169\n",
      "Epoch 4/100\n",
      "142/142 [==============================] - 0s 127us/step - loss: 0.5182 - acc: 0.3169\n",
      "Epoch 5/100\n",
      "142/142 [==============================] - 0s 147us/step - loss: 0.3820 - acc: 0.3169\n",
      "Epoch 6/100\n",
      "142/142 [==============================] - 0s 133us/step - loss: 0.1735 - acc: 0.3169\n",
      "Epoch 7/100\n",
      "142/142 [==============================] - 0s 147us/step - loss: -0.1500 - acc: 0.3169\n",
      "Epoch 8/100\n",
      "142/142 [==============================] - 0s 140us/step - loss: -0.5969 - acc: 0.3169\n",
      "Epoch 9/100\n",
      "142/142 [==============================] - 0s 133us/step - loss: -1.1558 - acc: 0.3169\n",
      "Epoch 10/100\n",
      "142/142 [==============================] - 0s 133us/step - loss: -1.8572 - acc: 0.3169\n",
      "Epoch 11/100\n",
      "142/142 [==============================] - 0s 147us/step - loss: -2.7344 - acc: 0.3169\n",
      "Epoch 12/100\n",
      "142/142 [==============================] - 0s 154us/step - loss: -3.7667 - acc: 0.3169\n",
      "Epoch 13/100\n",
      "142/142 [==============================] - 0s 112us/step - loss: -5.0462 - acc: 0.3169\n",
      "Epoch 14/100\n",
      "142/142 [==============================] - 0s 133us/step - loss: -6.6893 - acc: 0.3169\n",
      "Epoch 15/100\n",
      "142/142 [==============================] - 0s 126us/step - loss: -8.5093 - acc: 0.3169\n",
      "Epoch 16/100\n",
      "142/142 [==============================] - 0s 119us/step - loss: -10.2484 - acc: 0.3169\n",
      "Epoch 17/100\n",
      "142/142 [==============================] - 0s 119us/step - loss: -11.3917 - acc: 0.3169\n",
      "Epoch 18/100\n",
      "142/142 [==============================] - 0s 119us/step - loss: -11.9556 - acc: 0.3169\n",
      "Epoch 19/100\n",
      "142/142 [==============================] - 0s 112us/step - loss: -12.3181 - acc: 0.3169\n",
      "Epoch 20/100\n",
      "142/142 [==============================] - 0s 112us/step - loss: -12.6171 - acc: 0.3169\n",
      "Epoch 21/100\n",
      "142/142 [==============================] - 0s 119us/step - loss: -12.8871 - acc: 0.3169\n",
      "Epoch 22/100\n",
      "142/142 [==============================] - 0s 119us/step - loss: -13.1799 - acc: 0.3169\n",
      "Epoch 23/100\n",
      "142/142 [==============================] - 0s 106us/step - loss: -13.4308 - acc: 0.3169\n",
      "Epoch 24/100\n",
      "142/142 [==============================] - 0s 97us/step - loss: -13.6986 - acc: 0.3169\n",
      "Epoch 25/100\n",
      "142/142 [==============================] - 0s 109us/step - loss: -13.9096 - acc: 0.3169\n",
      "Epoch 26/100\n",
      "142/142 [==============================] - 0s 126us/step - loss: -14.0783 - acc: 0.3169\n",
      "Epoch 27/100\n",
      "142/142 [==============================] - 0s 112us/step - loss: -14.2221 - acc: 0.3169\n",
      "Epoch 28/100\n",
      "142/142 [==============================] - 0s 98us/step - loss: -14.3583 - acc: 0.3169\n",
      "Epoch 29/100\n",
      "142/142 [==============================] - 0s 112us/step - loss: -14.4515 - acc: 0.3169\n",
      "Epoch 30/100\n",
      "142/142 [==============================] - 0s 112us/step - loss: -14.5699 - acc: 0.3169\n",
      "Epoch 31/100\n",
      "142/142 [==============================] - 0s 98us/step - loss: -14.6708 - acc: 0.3169\n",
      "Epoch 32/100\n",
      "142/142 [==============================] - 0s 105us/step - loss: -14.7756 - acc: 0.3169\n",
      "Epoch 33/100\n",
      "142/142 [==============================] - 0s 119us/step - loss: -14.8801 - acc: 0.3169\n",
      "Epoch 34/100\n",
      "142/142 [==============================] - 0s 112us/step - loss: -14.9728 - acc: 0.3169\n",
      "Epoch 35/100\n",
      "142/142 [==============================] - 0s 105us/step - loss: -15.0679 - acc: 0.3169\n",
      "Epoch 36/100\n",
      "142/142 [==============================] - 0s 112us/step - loss: -15.1457 - acc: 0.3169\n",
      "Epoch 37/100\n",
      "142/142 [==============================] - 0s 112us/step - loss: -15.2443 - acc: 0.3169\n",
      "Epoch 38/100\n",
      "142/142 [==============================] - 0s 112us/step - loss: -15.3242 - acc: 0.3169\n",
      "Epoch 39/100\n",
      "142/142 [==============================] - 0s 109us/step - loss: -15.3743 - acc: 0.3169\n",
      "Epoch 40/100\n",
      "142/142 [==============================] - 0s 105us/step - loss: -15.4167 - acc: 0.3169\n",
      "Epoch 41/100\n",
      "142/142 [==============================] - 0s 119us/step - loss: -15.4482 - acc: 0.3169\n",
      "Epoch 42/100\n",
      "142/142 [==============================] - 0s 112us/step - loss: -15.4675 - acc: 0.3169\n",
      "Epoch 43/100\n",
      "142/142 [==============================] - 0s 98us/step - loss: -15.4864 - acc: 0.3169\n",
      "Epoch 44/100\n",
      "142/142 [==============================] - 0s 119us/step - loss: -15.4950 - acc: 0.3169\n",
      "Epoch 45/100\n",
      "142/142 [==============================] - 0s 98us/step - loss: -15.5067 - acc: 0.3169\n",
      "Epoch 46/100\n",
      "142/142 [==============================] - 0s 91us/step - loss: -15.5182 - acc: 0.3169\n",
      "Epoch 47/100\n",
      "142/142 [==============================] - 0s 98us/step - loss: -15.5235 - acc: 0.3169\n",
      "Epoch 48/100\n",
      "142/142 [==============================] - 0s 105us/step - loss: -15.5364 - acc: 0.3169\n",
      "Epoch 49/100\n",
      "142/142 [==============================] - 0s 105us/step - loss: -15.5440 - acc: 0.3169\n",
      "Epoch 50/100\n",
      "142/142 [==============================] - 0s 112us/step - loss: -15.5493 - acc: 0.3169\n",
      "Epoch 51/100\n",
      "142/142 [==============================] - 0s 105us/step - loss: -15.5512 - acc: 0.3169\n",
      "Epoch 52/100\n",
      "142/142 [==============================] - 0s 117us/step - loss: -15.5565 - acc: 0.3169\n",
      "Epoch 53/100\n",
      "142/142 [==============================] - 0s 105us/step - loss: -15.5603 - acc: 0.3169\n",
      "Epoch 54/100\n",
      "142/142 [==============================] - 0s 119us/step - loss: -15.5621 - acc: 0.3169\n",
      "Epoch 55/100\n",
      "142/142 [==============================] - 0s 119us/step - loss: -15.5641 - acc: 0.3169\n",
      "Epoch 56/100\n",
      "142/142 [==============================] - 0s 105us/step - loss: -15.5700 - acc: 0.3169\n",
      "Epoch 57/100\n",
      "142/142 [==============================] - 0s 112us/step - loss: -15.5706 - acc: 0.3169\n",
      "Epoch 58/100\n",
      "142/142 [==============================] - 0s 112us/step - loss: -15.5739 - acc: 0.3169\n",
      "Epoch 59/100\n",
      "142/142 [==============================] - 0s 112us/step - loss: -15.5763 - acc: 0.3169\n",
      "Epoch 60/100\n",
      "142/142 [==============================] - 0s 112us/step - loss: -15.5772 - acc: 0.3169\n",
      "Epoch 61/100\n",
      "142/142 [==============================] - 0s 105us/step - loss: -15.5787 - acc: 0.3169\n",
      "Epoch 62/100\n",
      "142/142 [==============================] - 0s 105us/step - loss: -15.5822 - acc: 0.3169\n",
      "Epoch 63/100\n",
      "142/142 [==============================] - 0s 105us/step - loss: -15.5828 - acc: 0.3169\n",
      "Epoch 64/100\n",
      "142/142 [==============================] - 0s 126us/step - loss: -15.5843 - acc: 0.3169\n",
      "Epoch 65/100\n",
      "142/142 [==============================] - 0s 119us/step - loss: -15.5900 - acc: 0.3169\n",
      "Epoch 66/100\n",
      "142/142 [==============================] - 0s 112us/step - loss: -15.5900 - acc: 0.3169\n",
      "Epoch 67/100\n",
      "142/142 [==============================] - 0s 98us/step - loss: -15.5910 - acc: 0.3169\n",
      "Epoch 68/100\n",
      "142/142 [==============================] - 0s 112us/step - loss: -15.5921 - acc: 0.3169\n",
      "Epoch 69/100\n",
      "142/142 [==============================] - 0s 112us/step - loss: -15.5921 - acc: 0.3169\n",
      "Epoch 70/100\n",
      "142/142 [==============================] - 0s 97us/step - loss: -15.5934 - acc: 0.3169\n",
      "Epoch 71/100\n",
      "142/142 [==============================] - 0s 84us/step - loss: -15.5950 - acc: 0.3169\n",
      "Epoch 72/100\n",
      "142/142 [==============================] - 0s 105us/step - loss: -15.5950 - acc: 0.3169\n",
      "Epoch 73/100\n",
      "142/142 [==============================] - 0s 84us/step - loss: -15.5971 - acc: 0.3169\n",
      "Epoch 74/100\n",
      "142/142 [==============================] - 0s 91us/step - loss: -15.5971 - acc: 0.3169\n",
      "Epoch 75/100\n",
      "142/142 [==============================] - 0s 98us/step - loss: -15.5971 - acc: 0.3169\n",
      "Epoch 76/100\n",
      "142/142 [==============================] - 0s 91us/step - loss: -15.6000 - acc: 0.3169\n",
      "Epoch 77/100\n",
      "142/142 [==============================] - 0s 84us/step - loss: -15.6000 - acc: 0.3169\n",
      "Epoch 78/100\n",
      "142/142 [==============================] - 0s 95us/step - loss: -15.6001 - acc: 0.3169\n",
      "Epoch 79/100\n",
      "142/142 [==============================] - 0s 98us/step - loss: -15.6001 - acc: 0.3169\n",
      "Epoch 80/100\n",
      "142/142 [==============================] - 0s 91us/step - loss: -15.6001 - acc: 0.3169\n",
      "Epoch 81/100\n",
      "142/142 [==============================] - 0s 98us/step - loss: -15.6050 - acc: 0.3169\n",
      "Epoch 82/100\n"
     ]
    },
    {
     "name": "stdout",
     "output_type": "stream",
     "text": [
      "142/142 [==============================] - 0s 105us/step - loss: -15.6050 - acc: 0.3169\n",
      "Epoch 83/100\n",
      "142/142 [==============================] - 0s 105us/step - loss: -15.6050 - acc: 0.3169\n",
      "Epoch 84/100\n",
      "142/142 [==============================] - 0s 84us/step - loss: -15.6051 - acc: 0.3169\n",
      "Epoch 85/100\n",
      "142/142 [==============================] - 0s 112us/step - loss: -15.6051 - acc: 0.3169\n",
      "Epoch 86/100\n",
      "142/142 [==============================] - 0s 105us/step - loss: -15.6051 - acc: 0.3169\n",
      "Epoch 87/100\n",
      "142/142 [==============================] - 0s 64us/step - loss: -15.6051 - acc: 0.3169\n",
      "Epoch 88/100\n",
      "142/142 [==============================] - 0s 133us/step - loss: -15.6051 - acc: 0.3169\n",
      "Epoch 89/100\n",
      "142/142 [==============================] - 0s 122us/step - loss: -15.6051 - acc: 0.3169\n",
      "Epoch 90/100\n",
      "142/142 [==============================] - 0s 105us/step - loss: -15.6051 - acc: 0.3169\n",
      "Epoch 91/100\n",
      "142/142 [==============================] - 0s 112us/step - loss: -15.6051 - acc: 0.3169\n",
      "Epoch 92/100\n",
      "142/142 [==============================] - 0s 112us/step - loss: -15.6051 - acc: 0.3169\n",
      "Epoch 93/100\n",
      "142/142 [==============================] - 0s 112us/step - loss: -15.6051 - acc: 0.3169\n",
      "Epoch 94/100\n",
      "142/142 [==============================] - 0s 112us/step - loss: -15.6051 - acc: 0.3169\n",
      "Epoch 95/100\n",
      "142/142 [==============================] - 0s 112us/step - loss: -15.6051 - acc: 0.3169\n",
      "Epoch 96/100\n",
      "142/142 [==============================] - 0s 105us/step - loss: -15.6051 - acc: 0.3169\n",
      "Epoch 97/100\n",
      "142/142 [==============================] - 0s 105us/step - loss: -15.6051 - acc: 0.3169\n",
      "Epoch 98/100\n",
      "142/142 [==============================] - 0s 105us/step - loss: -15.6051 - acc: 0.3169\n",
      "Epoch 99/100\n",
      "142/142 [==============================] - 0s 105us/step - loss: -15.6051 - acc: 0.3169\n",
      "Epoch 100/100\n",
      "142/142 [==============================] - 0s 112us/step - loss: -15.6051 - acc: 0.3169\n"
     ]
    },
    {
     "data": {
      "text/plain": [
       "<keras.callbacks.History at 0x1b2a8919438>"
      ]
     },
     "execution_count": 40,
     "metadata": {},
     "output_type": "execute_result"
    }
   ],
   "source": [
    "classifier.fit(X_train, Y_train, batch_size = 10, nb_epoch = 100)"
   ]
  },
  {
   "cell_type": "code",
   "execution_count": 52,
   "metadata": {},
   "outputs": [],
   "source": [
    "y_pred = classifier.predict(X_test)\n"
   ]
  },
  {
   "cell_type": "code",
   "execution_count": 53,
   "metadata": {},
   "outputs": [
    {
     "data": {
      "text/plain": [
       "array([[0.99995244],\n",
       "       [1.        ],\n",
       "       [1.        ],\n",
       "       [0.99998844],\n",
       "       [1.        ],\n",
       "       [1.        ],\n",
       "       [0.9908807 ],\n",
       "       [1.        ],\n",
       "       [1.        ],\n",
       "       [1.        ],\n",
       "       [1.        ],\n",
       "       [1.        ],\n",
       "       [0.9977022 ],\n",
       "       [1.        ],\n",
       "       [1.        ],\n",
       "       [1.        ],\n",
       "       [0.99712974],\n",
       "       [0.99676114],\n",
       "       [1.        ],\n",
       "       [0.9999949 ],\n",
       "       [1.        ],\n",
       "       [0.9998356 ],\n",
       "       [0.99972373],\n",
       "       [1.        ],\n",
       "       [1.        ],\n",
       "       [1.        ],\n",
       "       [1.        ],\n",
       "       [1.        ],\n",
       "       [1.        ],\n",
       "       [1.        ],\n",
       "       [0.99931014],\n",
       "       [0.9999821 ],\n",
       "       [1.        ],\n",
       "       [0.9179013 ],\n",
       "       [0.99991775],\n",
       "       [0.9999999 ]], dtype=float32)"
      ]
     },
     "execution_count": 53,
     "metadata": {},
     "output_type": "execute_result"
    }
   ],
   "source": [
    "y_pred"
   ]
  },
  {
   "cell_type": "code",
   "execution_count": 50,
   "metadata": {},
   "outputs": [],
   "source": [
    "from sklearn.metrics import confusion_matrix\n",
    "cm = confusion_matrix(Y_test, y_pred)"
   ]
  },
  {
   "cell_type": "code",
   "execution_count": 51,
   "metadata": {},
   "outputs": [
    {
     "data": {
      "text/plain": [
       "array([[14,  0,  0],\n",
       "       [16,  0,  0],\n",
       "       [ 6,  0,  0]], dtype=int64)"
      ]
     },
     "execution_count": 51,
     "metadata": {},
     "output_type": "execute_result"
    }
   ],
   "source": [
    "cm"
   ]
  },
  {
   "cell_type": "code",
   "execution_count": null,
   "metadata": {},
   "outputs": [],
   "source": []
  }
 ],
 "metadata": {
  "kernelspec": {
   "display_name": "Python 3",
   "language": "python",
   "name": "python3"
  },
  "language_info": {
   "codemirror_mode": {
    "name": "ipython",
    "version": 3
   },
   "file_extension": ".py",
   "mimetype": "text/x-python",
   "name": "python",
   "nbconvert_exporter": "python",
   "pygments_lexer": "ipython3",
   "version": "3.6.6"
  }
 },
 "nbformat": 4,
 "nbformat_minor": 2
}
